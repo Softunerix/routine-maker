{
 "cells": [
  {
   "cell_type": "code",
   "execution_count": 238,
   "id": "1b5b8557-726f-4e4c-8b3e-f2cc0122bbfb",
   "metadata": {},
   "outputs": [],
   "source": [
    "import networkx as nx\n",
    "import matplotlib.pyplot as plt\n",
    "from ortools.sat.python import cp_model"
   ]
  },
  {
   "cell_type": "code",
   "execution_count": 239,
   "id": "846b41d9-959f-48d1-8db4-28e9deb78854",
   "metadata": {},
   "outputs": [],
   "source": [
    "teachers = {\n",
    "    \"Alice\" : {\n",
    "        \"class1\" : {\"English\", \"Bengali\"},\n",
    "        \"class2\" : {\"H. Math\"},\n",
    "        \"class3\" : {}\n",
    "    },\n",
    "    \"Bob\" : {\n",
    "        \"class1\" : {\"Math\"},\n",
    "        \"class2\" : {\"Math\"},\n",
    "        \"class3\" : {}\n",
    "    },\n",
    "    \"Jolly\" : {\n",
    "        \"class1\" : {},\n",
    "        \"class2\" : {},\n",
    "        \"class3\" : {\"ICT\", \"Biology\"}\n",
    "    },\n",
    "    \"Mark\" : {\n",
    "        \"class1\" : {},\n",
    "        \"class2\" : {\"Physics\"},\n",
    "        \"class3\" : {\"BGS\"}\n",
    "    },\n",
    "}\n",
    "\n",
    "school_data = {\n",
    "    \"class1\": {\"Math\": 6, \"English\": 6, \"Bengali\": 6},\n",
    "    \"class2\": {\"Physics\": 3, \"H. Math\": 2, \"Math\": 6},\n",
    "    \"class3\": {\"Biology\": 3, \"BGS\": 3, \"ICT\": 3}\n",
    "}\n",
    "num_days = 6\n",
    "num_shifts = 3"
   ]
  },
  {
   "cell_type": "code",
   "execution_count": 240,
   "id": "163a4dcd-00cc-46ad-bc28-9b11b1ead994",
   "metadata": {},
   "outputs": [],
   "source": [
    "model = cp_model.CpModel()"
   ]
  },
  {
   "cell_type": "code",
   "execution_count": 241,
   "id": "30468aa0-707d-405e-98db-af8762ffda90",
   "metadata": {},
   "outputs": [],
   "source": [
    "schedule = {}\n",
    "for teacher in teachers:\n",
    "    for clss, subjects in school_data.items():\n",
    "        for subject, days in subjects.items():\n",
    "            if subject in teachers[teacher].get(clss, []): #Ensuring the teacher is qualified to teach the subject\n",
    "                for day in range(num_days):\n",
    "                    for shift in range(num_shifts):\n",
    "                        schedule[(teacher, clss, subject, day, shift)] = model.NewBoolVar(f\"{teacher}_{clss}_{subject}_{day}_{shift}\")"
   ]
  },
  {
   "cell_type": "code",
   "execution_count": 242,
   "id": "90e31f01-b577-43d5-a513-1da075c34087",
   "metadata": {},
   "outputs": [],
   "source": [
    "#1st Constraint\n",
    "for teacher in teachers:\n",
    "    for clss, subjects in school_data.items():\n",
    "        for subject, required_days in subjects.items():\n",
    "            if subject in teachers[teacher].get(clss, []):  # Ensuring the teacher is qualified to teach the subject\n",
    "                # Sum of all shifts across all days for this subject must equal the required days\n",
    "                model.Add(sum(schedule[(teacher, clss, subject, day, shift)] \n",
    "                              for day in range(num_days) \n",
    "                              for shift in range(num_shifts)) == required_days)"
   ]
  },
  {
   "cell_type": "code",
   "execution_count": 243,
   "id": "850765e6-9908-4385-be41-8d84039694d6",
   "metadata": {},
   "outputs": [],
   "source": [
    "#2nd Constraint\n",
    "for teacher in teachers:\n",
    "    for clss, subjects in school_data.items():\n",
    "        for subject, required_days in subjects.items():\n",
    "            if subject not in teachers[teacher].get(clss, []):  # Teacher isn't qualified for this subject\n",
    "                model.Add(sum(schedule.get((teacher, clss, subject, day, shift), 0) \n",
    "                              for day in range(num_days) \n",
    "                              for shift in range(num_shifts)) == 0)"
   ]
  },
  {
   "cell_type": "code",
   "execution_count": 244,
   "id": "7782a7d0-2c73-49eb-8be4-96add24dd2ae",
   "metadata": {},
   "outputs": [],
   "source": [
    "# 3rd Constraint\n",
    "for teacher in teachers:\n",
    "    for day in range(num_days):\n",
    "        for shift in range(num_shifts):\n",
    "            model.Add(sum(schedule.get((teacher, clss, subject, day, shift), 0) \n",
    "                        for clss in school_data\n",
    "                        for subject in school_data[clss]) <= 1) # teacher can't teach more than one subject at the same time"
   ]
  },
  {
   "cell_type": "code",
   "execution_count": 245,
   "id": "061d3792-2d39-4233-a133-478d2d465e9f",
   "metadata": {},
   "outputs": [],
   "source": [
    "# for day in range(num_days):\n",
    "#     for shift in range(num_shifts):\n",
    "#         model.Add(sum(schedule.get((teacher, clss, subject, day, shift), 0) \n",
    "#                     for teacher in teachers\n",
    "#                     for clss in school_data\n",
    "#                     for subject in school_data[clss]) <= 1) # multiple teacher can't teach a class in the same shift simultaneously"
   ]
  },
  {
   "cell_type": "code",
   "execution_count": 246,
   "id": "c79deaad-b041-4805-8555-63837740e2b2",
   "metadata": {},
   "outputs": [],
   "source": [
    "# 4th Constraint\n",
    "for clss in school_data:\n",
    "    for day in range(num_days):\n",
    "        for shift in range(num_shifts):\n",
    "            model.Add(sum(schedule.get((teacher, clss, subject, day, shift), 0) \n",
    "                          for teacher in teachers \n",
    "                          for subject in school_data[clss]) <= 1) # multiple teacher can't teach a class in the same shift simultaneously"
   ]
  },
  {
   "cell_type": "code",
   "execution_count": 247,
   "id": "85b1efe7-2a23-4d5d-b0ca-17d75057d65f",
   "metadata": {},
   "outputs": [],
   "source": [
    "# 5th Constraint\n",
    "for clss in school_data:\n",
    "    for subject in school_data[clss]:\n",
    "        for day in range(num_days):\n",
    "                model.Add(sum(schedule.get((teacher, clss, subject, day, shift), 0) \n",
    "                              for teacher in teachers \n",
    "                              for shift in range(num_shifts)) <= 1) # same subject can't taught multiple times in the same day"
   ]
  },
  {
   "cell_type": "code",
   "execution_count": 255,
   "id": "5d35f7d8-a28d-4319-a5a5-cf16eed83b38",
   "metadata": {},
   "outputs": [],
   "source": [
    "# 6th constraint\n",
    "for clss in school_data:\n",
    "    for subject, required_days in school_data[clss].items():\n",
    "        model.Add(\n",
    "            sum(\n",
    "                schedule.get((teacher, clss, subject, day, shift), 0)\n",
    "                for teacher in teachers \n",
    "                for day in range(num_days)\n",
    "                for shift in range(num_shifts)\n",
    "            ) <= required_days\n",
    "        )\n"
   ]
  },
  {
   "cell_type": "code",
   "execution_count": 250,
   "id": "50badbf3-efc0-4423-a62a-13938986998c",
   "metadata": {},
   "outputs": [],
   "source": [
    "solver = cp_model.CpSolver()\n",
    "status = solver.Solve(model)"
   ]
  },
  {
   "cell_type": "code",
   "execution_count": 251,
   "id": "53f2ac1d-15a5-4c80-ba1b-785787890d26",
   "metadata": {},
   "outputs": [
    {
     "name": "stdout",
     "output_type": "stream",
     "text": [
      "\n",
      "Schedule for Alice:\n",
      "  Day 0, Shift 1: class1 - English\n",
      "  Day 1, Shift 2: class1 - English\n",
      "  Day 2, Shift 1: class1 - English\n",
      "  Day 3, Shift 2: class1 - English\n",
      "  Day 4, Shift 2: class1 - English\n",
      "  Day 5, Shift 0: class1 - English\n",
      "  Day 0, Shift 2: class1 - Bengali\n",
      "  Day 1, Shift 0: class1 - Bengali\n",
      "  Day 2, Shift 2: class1 - Bengali\n",
      "  Day 3, Shift 1: class1 - Bengali\n",
      "  Day 4, Shift 0: class1 - Bengali\n",
      "  Day 5, Shift 2: class1 - Bengali\n",
      "  Day 0, Shift 0: class2 - H. Math\n",
      "  Day 4, Shift 1: class2 - H. Math\n",
      "\n",
      "Schedule for Bob:\n",
      "  Day 0, Shift 0: class1 - Math\n",
      "  Day 1, Shift 1: class1 - Math\n",
      "  Day 2, Shift 0: class1 - Math\n",
      "  Day 3, Shift 0: class1 - Math\n",
      "  Day 4, Shift 1: class1 - Math\n",
      "  Day 5, Shift 1: class1 - Math\n",
      "  Day 0, Shift 1: class2 - Math\n",
      "  Day 1, Shift 0: class2 - Math\n",
      "  Day 2, Shift 2: class2 - Math\n",
      "  Day 3, Shift 1: class2 - Math\n",
      "  Day 4, Shift 2: class2 - Math\n",
      "  Day 5, Shift 0: class2 - Math\n",
      "\n",
      "Schedule for Jolly:\n",
      "  Day 0, Shift 0: class3 - Biology\n",
      "  Day 1, Shift 1: class3 - Biology\n",
      "  Day 2, Shift 1: class3 - Biology\n",
      "  Day 0, Shift 2: class3 - ICT\n",
      "  Day 1, Shift 0: class3 - ICT\n",
      "  Day 4, Shift 2: class3 - ICT\n",
      "\n",
      "Schedule for Mark:\n",
      "  Day 0, Shift 2: class2 - Physics\n",
      "  Day 1, Shift 1: class2 - Physics\n",
      "  Day 2, Shift 1: class2 - Physics\n",
      "  Day 0, Shift 1: class3 - BGS\n",
      "  Day 1, Shift 2: class3 - BGS\n",
      "  Day 2, Shift 0: class3 - BGS\n"
     ]
    }
   ],
   "source": [
    "if status == cp_model.OPTIMAL or status == cp_model.FEASIBLE:\n",
    "    for teacher in teachers:\n",
    "        print(f\"\\nSchedule for {teacher}:\")\n",
    "        for key, value_var in schedule.items():  # Iterate through schedule items\n",
    "            if solver.Value(value_var) == 1:\n",
    "                t, cls, subject, day, shift = key\n",
    "                if t == teacher:  # Filter for the current teacher\n",
    "                    print(f\"  Day {day}, Shift {shift}: {cls} - {subject}\")\n",
    "else:\n",
    "    print(\"No solution found!\")"
   ]
  },
  {
   "cell_type": "code",
   "execution_count": 252,
   "id": "4cea82dc-76c1-4ed5-932d-eba495fd9cbd",
   "metadata": {},
   "outputs": [],
   "source": [
    "# day_names = [\"Saturday\", \"Sunday\", \"Monday\", \"Tuesday\", \"Wednesday\", \"Tuesday\", \"Thursday\"]\n",
    "# if status == cp_model.OPTIMAL or status == cp_model.FEASIBLE:\n",
    "#     with open(\"schedule_results.csv\", mode=\"w\", newline=\"\") as file:\n",
    "#         writer = csv.writer(file)\n",
    "#         writer.writerow([\"\", \"Class\", \"Shift\", \"Day\", \"Subject\"])  # Header row\n",
    "\n",
    "#         for teacher in teachers:\n",
    "#             for key, value_var in schedule.items():\n",
    "#                 if solver.Value(value_var) == 1:\n",
    "#                     t, cls, subject, day, shift = key\n",
    "#                     if teacher == t:\n",
    "#                         writer.writerow([t, cls, shift, day_names[day], subject])  # Write to CSV\n",
    "# else:\n",
    "#     print(\"No solution found!\")"
   ]
  },
  {
   "cell_type": "code",
   "execution_count": 253,
   "id": "d1b5ce31-c6ad-4144-8890-0c47d766bb76",
   "metadata": {},
   "outputs": [
    {
     "name": "stdout",
     "output_type": "stream",
     "text": [
      "Schedule saved to schedule_results.csv\n"
     ]
    }
   ],
   "source": [
    "import csv\n",
    "from ortools.sat.python import cp_model\n",
    "\n",
    "# Example day_names (be sure to match your actual days)\n",
    "day_names = [\"Saturday\", \"Sunday\", \"Monday\", \"Tuesday\", \"Wednesday\", \"Thursday\", \"Friday\"]\n",
    "\n",
    "if status == cp_model.OPTIMAL or status == cp_model.FEASIBLE:\n",
    "    # 1. Gather all assignments where solver.Value(...) == 1\n",
    "    results = []\n",
    "    for teacher in teachers:\n",
    "        for key, value_var in schedule.items():\n",
    "            if solver.Value(value_var) == 1:\n",
    "                t, cls, subject, day, shift = key\n",
    "                if t == teacher:\n",
    "                    # Store (teacher, class, shift, day_index, day_name, subject)\n",
    "                    results.append((t, cls, shift, day, day_names[day], subject))\n",
    "\n",
    "    # 2. Sort results so they appear in a logical order\n",
    "    #    e.g., by day, then by class, then by shift\n",
    "    results.sort(key=lambda x: (x[3], x[1], x[2]))\n",
    "\n",
    "    # 3. Write to CSV with \"grouped\" days\n",
    "    with open(\"schedule_results.csv\", mode=\"w\", newline=\"\") as file:\n",
    "        writer = csv.writer(file)\n",
    "        # Header row\n",
    "        writer.writerow([\"Day\", \"Teacher\", \"Class\", \"Shift\", \"Subject\"])\n",
    "\n",
    "        current_day_idx = None\n",
    "        for (teacher, cls, shift, day_idx, day_name, subject) in results:\n",
    "            # If we've moved to a new day, print the day name\n",
    "            # Otherwise, leave it blank for a \"merged\" effect\n",
    "            if day_idx != current_day_idx:\n",
    "                current_day_idx = day_idx\n",
    "                writer.writerow([day_name, teacher, cls, shift, subject])\n",
    "            else:\n",
    "                writer.writerow([\"\", teacher, cls, shift, subject])\n",
    "\n",
    "    print(\"Schedule saved to schedule_results.csv\")\n",
    "\n",
    "else:\n",
    "    print(\"No solution found!\")\n"
   ]
  },
  {
   "cell_type": "code",
   "execution_count": 254,
   "id": "18c89ca0-530d-4395-abcd-6fba11a54aee",
   "metadata": {},
   "outputs": [
    {
     "name": "stdout",
     "output_type": "stream",
     "text": [
      "Schedule saved to schedule_for_teacher.csv\n"
     ]
    }
   ],
   "source": [
    "if status == cp_model.OPTIMAL or status == cp_model.FEASIBLE:\n",
    "    with open(\"schedule_for_teacher.csv\", mode=\"w\", newline=\"\") as file:\n",
    "        writer = csv.writer(file)\n",
    "\n",
    "        teacher_schedule_data = {}\n",
    "        teachers = set() # To keep track of unique teachers\n",
    "        for (teacher, cls, shift, day_idx, day_name, subject) in results:\n",
    "            teachers.add(teacher)\n",
    "            if teacher not in teacher_schedule_data:\n",
    "                teacher_schedule_data[teacher] = {}\n",
    "            if shift not in teacher_schedule_data[teacher]:\n",
    "                teacher_schedule_data[teacher][shift] = {}\n",
    "            teacher_schedule_data[teacher][shift][day_name] = (cls, subject)\n",
    "\n",
    "        day_names_order = [\"Saturday\", \"Sunday\", \"Monday\", \"Tuesday\", \"Wednesday\", \"Thursday\", \"Friday\"]\n",
    "        sorted_teachers = sorted(list(teachers)) # Sort teachers for consistent output\n",
    "\n",
    "        # Header row: Teacher and Shift columns\n",
    "        header_row = [\"Teacher\"]\n",
    "        for shift in range(num_shifts):\n",
    "            header_row.append(f\"Shift {shift+1}\")\n",
    "        writer.writerow(header_row)\n",
    "\n",
    "        for teacher in sorted_teachers:\n",
    "            teacher_row = [teacher]\n",
    "            for shift in range(num_shifts):\n",
    "                shift_schedule_list = []\n",
    "                if teacher in teacher_schedule_data and shift in teacher_schedule_data[teacher]:\n",
    "                    for day_name in day_names_order:\n",
    "                        if day_name in teacher_schedule_data[teacher][shift]:\n",
    "                            cls, subject = teacher_schedule_data[teacher][shift][day_name]\n",
    "                            shift_schedule_list.append(f\"{day_name}: Class {cls}-{subject}\")\n",
    "                shift_schedule_text = \"\\n\".join(shift_schedule_list) # Join days with newline for column format\n",
    "                teacher_row.append(shift_schedule_text)\n",
    "            writer.writerow(teacher_row)\n",
    "\n",
    "    print(\"Schedule saved to schedule_for_teacher.csv\")\n",
    "\n",
    "else:\n",
    "    print(\"No solution found!\")"
   ]
  },
  {
   "cell_type": "code",
   "execution_count": null,
   "id": "bee297c5-b7e0-4a36-8a23-e10eda751487",
   "metadata": {},
   "outputs": [],
   "source": []
  },
  {
   "cell_type": "code",
   "execution_count": null,
   "id": "d19594d8-9ecd-4f47-9b78-eaf2013a4c21",
   "metadata": {},
   "outputs": [],
   "source": []
  }
 ],
 "metadata": {
  "kernelspec": {
   "display_name": "Python 3 (ipykernel)",
   "language": "python",
   "name": "python3"
  },
  "language_info": {
   "codemirror_mode": {
    "name": "ipython",
    "version": 3
   },
   "file_extension": ".py",
   "mimetype": "text/x-python",
   "name": "python",
   "nbconvert_exporter": "python",
   "pygments_lexer": "ipython3",
   "version": "3.13.1"
  }
 },
 "nbformat": 4,
 "nbformat_minor": 5
}
