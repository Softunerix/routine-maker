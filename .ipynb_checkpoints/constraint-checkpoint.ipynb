{
 "cells": [
  {
   "cell_type": "code",
   "execution_count": 6,
   "id": "1b5b8557-726f-4e4c-8b3e-f2cc0122bbfb",
   "metadata": {},
   "outputs": [],
   "source": [
    "import networkx as nx\n",
    "import matplotlib.pyplot as plt\n",
    "from ortools.sat.python import cp_model"
   ]
  },
  {
   "cell_type": "code",
   "execution_count": 50,
   "id": "846b41d9-959f-48d1-8db4-28e9deb78854",
   "metadata": {},
   "outputs": [],
   "source": [
    "teachers = {\n",
    "    \"Alice\" : {\n",
    "        \"class1\" : {\"English\", \"Bengali\"},\n",
    "        \"class2\" : {},\n",
    "        \"class3\" : {\"BGS\"}\n",
    "    },\n",
    "    \"Bob\" : {\n",
    "        \"class1\" : {\"Math\"},\n",
    "        \"class2\" : {\"H. Math\", \"Math\"},\n",
    "        \"class3\" : {\"BGS\", \"Biology\"}\n",
    "    },\n",
    "    \"Jolly\" : {\n",
    "        \"class1\" : {\"Bengali\"},\n",
    "        \"class2\" : {\"Physics\"},\n",
    "        \"class3\" : {\"ICT\", \"Biology\"}\n",
    "    },\n",
    "}\n",
    "\n",
    "school_data = {\n",
    "    \"class1\": {\"Math\": 6, \"English\": 6, \"Bengali\": 6},\n",
    "    \"class2\": {\"Physics\": 3, \"H. Math\": 2, \"Math\": 6},\n",
    "    \"class3\": {\"Biology\": 3, \"BGS\": 3, \"ICT\": 3}\n",
    "}\n",
    "num_days = 6\n",
    "num_shifts = 4\n",
    "available_classes = 3"
   ]
  },
  {
   "cell_type": "code",
   "execution_count": 51,
   "id": "163a4dcd-00cc-46ad-bc28-9b11b1ead994",
   "metadata": {},
   "outputs": [],
   "source": [
    "model = cp_model.CpModel()"
   ]
  },
  {
   "cell_type": "code",
   "execution_count": 52,
   "id": "30468aa0-707d-405e-98db-af8762ffda90",
   "metadata": {},
   "outputs": [],
   "source": [
    "schedule = {}\n",
    "for teacher in teachers:\n",
    "    for clss, subjects in school_data.items():\n",
    "        for subject, days in subjects.items():\n",
    "            if subject in teachers[teacher].get(clss, []): #Ensuring the teacher is qualified to teach the subject\n",
    "                for day in range(num_days):\n",
    "                    for shift in range(num_shifts):\n",
    "                        schedule[(teacher, clss, subject, day, shift)] = model.NewBoolVar(f\"{teacher}_{clss}_{subject}_{day}_{shift}\")"
   ]
  },
  {
   "cell_type": "code",
   "execution_count": 53,
   "id": "90e31f01-b577-43d5-a513-1da075c34087",
   "metadata": {},
   "outputs": [],
   "source": [
    "for teacher in teachers:\n",
    "    for clss, subjects in school_data.items():\n",
    "        for subject, required_days in subjects.items():\n",
    "            if subject in teachers[teacher].get(clss, []):  # Ensuring the teacher is qualified to teach the subject\n",
    "                # Sum of all shifts across all days for this subject must equal the required days\n",
    "                model.Add(sum(schedule[(teacher, clss, subject, day, shift)] \n",
    "                              for day in range(num_days) \n",
    "                              for shift in range(num_shifts)) == required_days)"
   ]
  },
  {
   "cell_type": "code",
   "execution_count": 54,
   "id": "850765e6-9908-4385-be41-8d84039694d6",
   "metadata": {},
   "outputs": [],
   "source": [
    "for teacher in teachers:\n",
    "    for clss, subjects in school_data.items():\n",
    "        for subject, required_days in subjects.items():\n",
    "            if subject not in teachers[teacher].get(clss, []):  # Teacher isn't qualified for this subject\n",
    "                model.Add(sum(schedule.get((teacher, clss, subject, day, shift), 0) \n",
    "                              for day in range(num_days) \n",
    "                              for shift in range(num_shifts)) == 0)"
   ]
  },
  {
   "cell_type": "code",
   "execution_count": 55,
   "id": "7782a7d0-2c73-49eb-8be4-96add24dd2ae",
   "metadata": {},
   "outputs": [],
   "source": [
    "for teacher in teachers:\n",
    "    for day in range(num_days):\n",
    "        for shift in range(num_shifts):\n",
    "            model.Add(sum(schedule.get((teacher, clss, subject, day, shift), 0)\n",
    "                        for clss in school_data\n",
    "                        for subject in school_data[clss]) <= 1)"
   ]
  },
  {
   "cell_type": "code",
   "execution_count": 56,
   "id": "50badbf3-efc0-4423-a62a-13938986998c",
   "metadata": {},
   "outputs": [],
   "source": [
    "solver = cp_model.CpSolver()\n",
    "status = solver.Solve(model)"
   ]
  },
  {
   "cell_type": "code",
   "execution_count": 57,
   "id": "53f2ac1d-15a5-4c80-ba1b-785787890d26",
   "metadata": {},
   "outputs": [
    {
     "name": "stdout",
     "output_type": "stream",
     "text": [
      "\n",
      "Schedule for Alice:\n",
      "  Day 2, Shift 1: class1 - English\n",
      "  Day 2, Shift 2: class1 - English\n",
      "  Day 2, Shift 3: class1 - English\n",
      "  Day 3, Shift 0: class1 - English\n",
      "  Day 3, Shift 1: class1 - English\n",
      "  Day 3, Shift 2: class1 - English\n",
      "  Day 0, Shift 3: class1 - Bengali\n",
      "  Day 1, Shift 0: class1 - Bengali\n",
      "  Day 1, Shift 1: class1 - Bengali\n",
      "  Day 1, Shift 2: class1 - Bengali\n",
      "  Day 1, Shift 3: class1 - Bengali\n",
      "  Day 2, Shift 0: class1 - Bengali\n",
      "  Day 0, Shift 0: class3 - BGS\n",
      "  Day 0, Shift 1: class3 - BGS\n",
      "  Day 0, Shift 2: class3 - BGS\n",
      "\n",
      "Schedule for Bob:\n",
      "  Day 0, Shift 0: class1 - Math\n",
      "  Day 3, Shift 3: class1 - Math\n",
      "  Day 4, Shift 0: class1 - Math\n",
      "  Day 4, Shift 1: class1 - Math\n",
      "  Day 4, Shift 2: class1 - Math\n",
      "  Day 4, Shift 3: class1 - Math\n",
      "  Day 3, Shift 1: class2 - H. Math\n",
      "  Day 3, Shift 2: class2 - H. Math\n",
      "  Day 1, Shift 3: class2 - Math\n",
      "  Day 2, Shift 0: class2 - Math\n",
      "  Day 2, Shift 1: class2 - Math\n",
      "  Day 2, Shift 2: class2 - Math\n",
      "  Day 2, Shift 3: class2 - Math\n",
      "  Day 3, Shift 0: class2 - Math\n",
      "  Day 1, Shift 0: class3 - Biology\n",
      "  Day 1, Shift 1: class3 - Biology\n",
      "  Day 1, Shift 2: class3 - Biology\n",
      "  Day 0, Shift 1: class3 - BGS\n",
      "  Day 0, Shift 2: class3 - BGS\n",
      "  Day 0, Shift 3: class3 - BGS\n",
      "\n",
      "Schedule for Jolly:\n",
      "  Day 2, Shift 0: class1 - Bengali\n",
      "  Day 2, Shift 1: class1 - Bengali\n",
      "  Day 2, Shift 2: class1 - Bengali\n",
      "  Day 2, Shift 3: class1 - Bengali\n",
      "  Day 3, Shift 0: class1 - Bengali\n",
      "  Day 3, Shift 1: class1 - Bengali\n",
      "  Day 1, Shift 1: class2 - Physics\n",
      "  Day 1, Shift 2: class2 - Physics\n",
      "  Day 1, Shift 3: class2 - Physics\n",
      "  Day 0, Shift 2: class3 - Biology\n",
      "  Day 0, Shift 3: class3 - Biology\n",
      "  Day 1, Shift 0: class3 - Biology\n",
      "  Day 0, Shift 0: class3 - ICT\n",
      "  Day 0, Shift 1: class3 - ICT\n",
      "  Day 5, Shift 3: class3 - ICT\n"
     ]
    }
   ],
   "source": [
    "if status == cp_model.OPTIMAL or status == cp_model.FEASIBLE:\n",
    "    for teacher in teachers:\n",
    "        print(f\"\\nSchedule for {teacher}:\")\n",
    "        for key, value_var in schedule.items():  # Iterate through schedule items\n",
    "            if solver.Value(value_var) == 1:\n",
    "                t, cls, subject, day, shift = key\n",
    "                if t == teacher:  # Filter for the current teacher\n",
    "                    print(f\"  Day {day}, Shift {shift}: {cls} - {subject}\")\n",
    "else:\n",
    "    print(\"No solution found!\")"
   ]
  },
  {
   "cell_type": "code",
   "execution_count": 62,
   "id": "4cea82dc-76c1-4ed5-932d-eba495fd9cbd",
   "metadata": {},
   "outputs": [],
   "source": [
    "day_names = [\"Saturday\", \"Sunday\", \"Monday\", \"Tuesday\", \"Wednesday\", \"Tuesday\", \"Thursday\"]\n",
    "if status == cp_model.OPTIMAL or status == cp_model.FEASIBLE:\n",
    "    with open(\"schedule_results.csv\", mode=\"w\", newline=\"\") as file:\n",
    "        writer = csv.writer(file)\n",
    "        writer.writerow([\"\", \"Class\", \"Shift\", \"Day\", \"Subject\"])  # Header row\n",
    "\n",
    "        for teacher in teachers:\n",
    "            for key, value_var in schedule.items():\n",
    "                if solver.Value(value_var) == 1:\n",
    "                    t, cls, subject, day, shift = key\n",
    "                    if teacher == t:\n",
    "                        writer.writerow([t, cls, shift, day_names[day], subject])  # Write to CSV\n",
    "else:\n",
    "    print(\"No solution found!\")"
   ]
  },
  {
   "cell_type": "code",
   "execution_count": 59,
   "id": "d1b5ce31-c6ad-4144-8890-0c47d766bb76",
   "metadata": {},
   "outputs": [],
   "source": []
  },
  {
   "cell_type": "code",
   "execution_count": null,
   "id": "18c89ca0-530d-4395-abcd-6fba11a54aee",
   "metadata": {},
   "outputs": [],
   "source": []
  }
 ],
 "metadata": {
  "kernelspec": {
   "display_name": "Python 3 (ipykernel)",
   "language": "python",
   "name": "python3"
  },
  "language_info": {
   "codemirror_mode": {
    "name": "ipython",
    "version": 3
   },
   "file_extension": ".py",
   "mimetype": "text/x-python",
   "name": "python",
   "nbconvert_exporter": "python",
   "pygments_lexer": "ipython3",
   "version": "3.13.1"
  }
 },
 "nbformat": 4,
 "nbformat_minor": 5
}
